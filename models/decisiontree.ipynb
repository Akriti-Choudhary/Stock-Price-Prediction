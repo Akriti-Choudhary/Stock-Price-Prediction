{
 "cells": [
  {
   "cell_type": "code",
   "execution_count": 1,
   "metadata": {},
   "outputs": [],
   "source": [
    "import os\n",
    "import pandas as pd\n",
    "from sklearn.model_selection import train_test_split\n",
    "from sklearn.linear_model import LinearRegression\n",
    "from sklearn.metrics import r2_score\n",
    "import matplotlib.pyplot as plt\n",
    "from sklearn.tree import DecisionTreeRegressor\n",
    "import numpy as np\n"
   ]
  },
  {
   "cell_type": "code",
   "execution_count": 2,
   "metadata": {},
   "outputs": [
    {
     "data": {
      "text/plain": [
       "Unnamed: 0                0\n",
       "Date                      0\n",
       "Symbol                    0\n",
       "Series_x                  0\n",
       "Prev Close                0\n",
       "Open                      0\n",
       "High                      0\n",
       "Low                       0\n",
       "Last                      0\n",
       "Close                     0\n",
       "VWAP                      0\n",
       "Volume                    0\n",
       "Turnover                  0\n",
       "Deliverable Volume    10298\n",
       "%Deliverble           10298\n",
       "Company Name              0\n",
       "Industry                  0\n",
       "dtype: int64"
      ]
     },
     "execution_count": 2,
     "metadata": {},
     "output_type": "execute_result"
    }
   ],
   "source": [
    "df = pd.read_csv('final_merged.csv')\n",
    "\n",
    "df.isnull().sum()"
   ]
  },
  {
   "cell_type": "code",
   "execution_count": 3,
   "metadata": {},
   "outputs": [
    {
     "data": {
      "text/html": [
       "<div>\n",
       "<style scoped>\n",
       "    .dataframe tbody tr th:only-of-type {\n",
       "        vertical-align: middle;\n",
       "    }\n",
       "\n",
       "    .dataframe tbody tr th {\n",
       "        vertical-align: top;\n",
       "    }\n",
       "\n",
       "    .dataframe thead th {\n",
       "        text-align: right;\n",
       "    }\n",
       "</style>\n",
       "<table border=\"1\" class=\"dataframe\">\n",
       "  <thead>\n",
       "    <tr style=\"text-align: right;\">\n",
       "      <th></th>\n",
       "      <th>Unnamed: 0</th>\n",
       "      <th>Date</th>\n",
       "      <th>Symbol</th>\n",
       "      <th>Series_x</th>\n",
       "      <th>Prev Close</th>\n",
       "      <th>Open</th>\n",
       "      <th>High</th>\n",
       "      <th>Low</th>\n",
       "      <th>Last</th>\n",
       "      <th>Close</th>\n",
       "      <th>VWAP</th>\n",
       "      <th>Volume</th>\n",
       "      <th>Turnover</th>\n",
       "      <th>Deliverable Volume</th>\n",
       "      <th>%Deliverble</th>\n",
       "      <th>Company Name</th>\n",
       "      <th>Industry</th>\n",
       "    </tr>\n",
       "  </thead>\n",
       "  <tbody>\n",
       "    <tr>\n",
       "      <th>0</th>\n",
       "      <td>0</td>\n",
       "      <td>2008-05-26</td>\n",
       "      <td>BAJAJ-AUTO</td>\n",
       "      <td>EQ</td>\n",
       "      <td>2101.05</td>\n",
       "      <td>898.00</td>\n",
       "      <td>898.0</td>\n",
       "      <td>551.35</td>\n",
       "      <td>600.25</td>\n",
       "      <td>604.75</td>\n",
       "      <td>624.61</td>\n",
       "      <td>3972485</td>\n",
       "      <td>2.481245e+14</td>\n",
       "      <td>1202933.0</td>\n",
       "      <td>0.3028</td>\n",
       "      <td>Bajaj Auto Ltd.</td>\n",
       "      <td>AUTOMOBILE</td>\n",
       "    </tr>\n",
       "    <tr>\n",
       "      <th>1</th>\n",
       "      <td>1</td>\n",
       "      <td>2008-05-27</td>\n",
       "      <td>BAJAJ-AUTO</td>\n",
       "      <td>EQ</td>\n",
       "      <td>604.75</td>\n",
       "      <td>624.70</td>\n",
       "      <td>639.0</td>\n",
       "      <td>580.30</td>\n",
       "      <td>595.50</td>\n",
       "      <td>593.15</td>\n",
       "      <td>606.43</td>\n",
       "      <td>1751063</td>\n",
       "      <td>1.061901e+14</td>\n",
       "      <td>369389.0</td>\n",
       "      <td>0.2110</td>\n",
       "      <td>Bajaj Auto Ltd.</td>\n",
       "      <td>AUTOMOBILE</td>\n",
       "    </tr>\n",
       "    <tr>\n",
       "      <th>2</th>\n",
       "      <td>2</td>\n",
       "      <td>2008-05-28</td>\n",
       "      <td>BAJAJ-AUTO</td>\n",
       "      <td>EQ</td>\n",
       "      <td>593.15</td>\n",
       "      <td>561.65</td>\n",
       "      <td>621.9</td>\n",
       "      <td>561.65</td>\n",
       "      <td>605.10</td>\n",
       "      <td>608.15</td>\n",
       "      <td>608.75</td>\n",
       "      <td>1652355</td>\n",
       "      <td>1.005877e+14</td>\n",
       "      <td>898602.0</td>\n",
       "      <td>0.5438</td>\n",
       "      <td>Bajaj Auto Ltd.</td>\n",
       "      <td>AUTOMOBILE</td>\n",
       "    </tr>\n",
       "    <tr>\n",
       "      <th>3</th>\n",
       "      <td>3</td>\n",
       "      <td>2008-05-29</td>\n",
       "      <td>BAJAJ-AUTO</td>\n",
       "      <td>EQ</td>\n",
       "      <td>608.15</td>\n",
       "      <td>619.40</td>\n",
       "      <td>619.4</td>\n",
       "      <td>576.00</td>\n",
       "      <td>600.00</td>\n",
       "      <td>599.45</td>\n",
       "      <td>600.98</td>\n",
       "      <td>669269</td>\n",
       "      <td>4.022165e+13</td>\n",
       "      <td>449951.0</td>\n",
       "      <td>0.6723</td>\n",
       "      <td>Bajaj Auto Ltd.</td>\n",
       "      <td>AUTOMOBILE</td>\n",
       "    </tr>\n",
       "    <tr>\n",
       "      <th>4</th>\n",
       "      <td>4</td>\n",
       "      <td>2008-05-30</td>\n",
       "      <td>BAJAJ-AUTO</td>\n",
       "      <td>EQ</td>\n",
       "      <td>599.45</td>\n",
       "      <td>605.40</td>\n",
       "      <td>607.0</td>\n",
       "      <td>538.00</td>\n",
       "      <td>576.25</td>\n",
       "      <td>571.70</td>\n",
       "      <td>565.55</td>\n",
       "      <td>1262117</td>\n",
       "      <td>7.137937e+13</td>\n",
       "      <td>936432.0</td>\n",
       "      <td>0.7420</td>\n",
       "      <td>Bajaj Auto Ltd.</td>\n",
       "      <td>AUTOMOBILE</td>\n",
       "    </tr>\n",
       "  </tbody>\n",
       "</table>\n",
       "</div>"
      ],
      "text/plain": [
       "   Unnamed: 0        Date      Symbol Series_x  Prev Close    Open   High  \\\n",
       "0           0  2008-05-26  BAJAJ-AUTO       EQ     2101.05  898.00  898.0   \n",
       "1           1  2008-05-27  BAJAJ-AUTO       EQ      604.75  624.70  639.0   \n",
       "2           2  2008-05-28  BAJAJ-AUTO       EQ      593.15  561.65  621.9   \n",
       "3           3  2008-05-29  BAJAJ-AUTO       EQ      608.15  619.40  619.4   \n",
       "4           4  2008-05-30  BAJAJ-AUTO       EQ      599.45  605.40  607.0   \n",
       "\n",
       "      Low    Last   Close    VWAP   Volume      Turnover  Deliverable Volume  \\\n",
       "0  551.35  600.25  604.75  624.61  3972485  2.481245e+14           1202933.0   \n",
       "1  580.30  595.50  593.15  606.43  1751063  1.061901e+14            369389.0   \n",
       "2  561.65  605.10  608.15  608.75  1652355  1.005877e+14            898602.0   \n",
       "3  576.00  600.00  599.45  600.98   669269  4.022165e+13            449951.0   \n",
       "4  538.00  576.25  571.70  565.55  1262117  7.137937e+13            936432.0   \n",
       "\n",
       "   %Deliverble     Company Name    Industry  \n",
       "0       0.3028  Bajaj Auto Ltd.  AUTOMOBILE  \n",
       "1       0.2110  Bajaj Auto Ltd.  AUTOMOBILE  \n",
       "2       0.5438  Bajaj Auto Ltd.  AUTOMOBILE  \n",
       "3       0.6723  Bajaj Auto Ltd.  AUTOMOBILE  \n",
       "4       0.7420  Bajaj Auto Ltd.  AUTOMOBILE  "
      ]
     },
     "execution_count": 3,
     "metadata": {},
     "output_type": "execute_result"
    }
   ],
   "source": [
    "df.head()"
   ]
  },
  {
   "cell_type": "code",
   "execution_count": 4,
   "metadata": {},
   "outputs": [],
   "source": [
    "X=df[['Prev Close','High','Low','Open',]].values\n",
    "y=df['Close'].values"
   ]
  },
  {
   "cell_type": "code",
   "execution_count": 5,
   "metadata": {},
   "outputs": [],
   "source": [
    "X_train,X_test,y_train,y_test=train_test_split(X,y,test_size=0.2,random_state=0)"
   ]
  },
  {
   "cell_type": "code",
   "execution_count": 6,
   "metadata": {},
   "outputs": [
    {
     "data": {
      "text/html": [
       "<style>#sk-container-id-1 {color: black;background-color: white;}#sk-container-id-1 pre{padding: 0;}#sk-container-id-1 div.sk-toggleable {background-color: white;}#sk-container-id-1 label.sk-toggleable__label {cursor: pointer;display: block;width: 100%;margin-bottom: 0;padding: 0.3em;box-sizing: border-box;text-align: center;}#sk-container-id-1 label.sk-toggleable__label-arrow:before {content: \"▸\";float: left;margin-right: 0.25em;color: #696969;}#sk-container-id-1 label.sk-toggleable__label-arrow:hover:before {color: black;}#sk-container-id-1 div.sk-estimator:hover label.sk-toggleable__label-arrow:before {color: black;}#sk-container-id-1 div.sk-toggleable__content {max-height: 0;max-width: 0;overflow: hidden;text-align: left;background-color: #f0f8ff;}#sk-container-id-1 div.sk-toggleable__content pre {margin: 0.2em;color: black;border-radius: 0.25em;background-color: #f0f8ff;}#sk-container-id-1 input.sk-toggleable__control:checked~div.sk-toggleable__content {max-height: 200px;max-width: 100%;overflow: auto;}#sk-container-id-1 input.sk-toggleable__control:checked~label.sk-toggleable__label-arrow:before {content: \"▾\";}#sk-container-id-1 div.sk-estimator input.sk-toggleable__control:checked~label.sk-toggleable__label {background-color: #d4ebff;}#sk-container-id-1 div.sk-label input.sk-toggleable__control:checked~label.sk-toggleable__label {background-color: #d4ebff;}#sk-container-id-1 input.sk-hidden--visually {border: 0;clip: rect(1px 1px 1px 1px);clip: rect(1px, 1px, 1px, 1px);height: 1px;margin: -1px;overflow: hidden;padding: 0;position: absolute;width: 1px;}#sk-container-id-1 div.sk-estimator {font-family: monospace;background-color: #f0f8ff;border: 1px dotted black;border-radius: 0.25em;box-sizing: border-box;margin-bottom: 0.5em;}#sk-container-id-1 div.sk-estimator:hover {background-color: #d4ebff;}#sk-container-id-1 div.sk-parallel-item::after {content: \"\";width: 100%;border-bottom: 1px solid gray;flex-grow: 1;}#sk-container-id-1 div.sk-label:hover label.sk-toggleable__label {background-color: #d4ebff;}#sk-container-id-1 div.sk-serial::before {content: \"\";position: absolute;border-left: 1px solid gray;box-sizing: border-box;top: 0;bottom: 0;left: 50%;z-index: 0;}#sk-container-id-1 div.sk-serial {display: flex;flex-direction: column;align-items: center;background-color: white;padding-right: 0.2em;padding-left: 0.2em;position: relative;}#sk-container-id-1 div.sk-item {position: relative;z-index: 1;}#sk-container-id-1 div.sk-parallel {display: flex;align-items: stretch;justify-content: center;background-color: white;position: relative;}#sk-container-id-1 div.sk-item::before, #sk-container-id-1 div.sk-parallel-item::before {content: \"\";position: absolute;border-left: 1px solid gray;box-sizing: border-box;top: 0;bottom: 0;left: 50%;z-index: -1;}#sk-container-id-1 div.sk-parallel-item {display: flex;flex-direction: column;z-index: 1;position: relative;background-color: white;}#sk-container-id-1 div.sk-parallel-item:first-child::after {align-self: flex-end;width: 50%;}#sk-container-id-1 div.sk-parallel-item:last-child::after {align-self: flex-start;width: 50%;}#sk-container-id-1 div.sk-parallel-item:only-child::after {width: 0;}#sk-container-id-1 div.sk-dashed-wrapped {border: 1px dashed gray;margin: 0 0.4em 0.5em 0.4em;box-sizing: border-box;padding-bottom: 0.4em;background-color: white;}#sk-container-id-1 div.sk-label label {font-family: monospace;font-weight: bold;display: inline-block;line-height: 1.2em;}#sk-container-id-1 div.sk-label-container {text-align: center;}#sk-container-id-1 div.sk-container {/* jupyter's `normalize.less` sets `[hidden] { display: none; }` but bootstrap.min.css set `[hidden] { display: none !important; }` so we also need the `!important` here to be able to override the default hidden behavior on the sphinx rendered scikit-learn.org. See: https://github.com/scikit-learn/scikit-learn/issues/21755 */display: inline-block !important;position: relative;}#sk-container-id-1 div.sk-text-repr-fallback {display: none;}</style><div id=\"sk-container-id-1\" class=\"sk-top-container\"><div class=\"sk-text-repr-fallback\"><pre>DecisionTreeRegressor(random_state=0)</pre><b>In a Jupyter environment, please rerun this cell to show the HTML representation or trust the notebook. <br />On GitHub, the HTML representation is unable to render, please try loading this page with nbviewer.org.</b></div><div class=\"sk-container\" hidden><div class=\"sk-item\"><div class=\"sk-estimator sk-toggleable\"><input class=\"sk-toggleable__control sk-hidden--visually\" id=\"sk-estimator-id-1\" type=\"checkbox\" checked><label for=\"sk-estimator-id-1\" class=\"sk-toggleable__label sk-toggleable__label-arrow\">DecisionTreeRegressor</label><div class=\"sk-toggleable__content\"><pre>DecisionTreeRegressor(random_state=0)</pre></div></div></div></div></div>"
      ],
      "text/plain": [
       "DecisionTreeRegressor(random_state=0)"
      ]
     },
     "execution_count": 6,
     "metadata": {},
     "output_type": "execute_result"
    }
   ],
   "source": [
    "regressor = DecisionTreeRegressor(random_state = 0)\n",
    "regressor.fit(X_train, y_train)"
   ]
  },
  {
   "cell_type": "code",
   "execution_count": 7,
   "metadata": {},
   "outputs": [],
   "source": [
    "y_pred = regressor.predict(X_test)"
   ]
  },
  {
   "cell_type": "code",
   "execution_count": 8,
   "metadata": {},
   "outputs": [
    {
     "data": {
      "text/plain": [
       "0.9997941212396496"
      ]
     },
     "execution_count": 8,
     "metadata": {},
     "output_type": "execute_result"
    }
   ],
   "source": [
    "r2_score(y_test, y_pred)"
   ]
  }
 ],
 "metadata": {
  "kernelspec": {
   "display_name": "Python 3",
   "language": "python",
   "name": "python3"
  },
  "language_info": {
   "codemirror_mode": {
    "name": "ipython",
    "version": 3
   },
   "file_extension": ".py",
   "mimetype": "text/x-python",
   "name": "python",
   "nbconvert_exporter": "python",
   "pygments_lexer": "ipython3",
   "version": "3.10.6"
  },
  "orig_nbformat": 4
 },
 "nbformat": 4,
 "nbformat_minor": 2
}
