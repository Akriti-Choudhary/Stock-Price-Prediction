{
 "cells": [
  {
   "cell_type": "code",
   "execution_count": 1,
   "metadata": {},
   "outputs": [],
   "source": [
    "import os\n",
    "import pandas as pd"
   ]
  },
  {
   "cell_type": "code",
   "execution_count": null,
   "metadata": {},
   "outputs": [],
   "source": [
    "directory_path = '/home/vivek/Desktop/mldatasets/datasets/'\n",
    "print(directory_path)"
   ]
  },
  {
   "cell_type": "code",
   "execution_count": 3,
   "metadata": {},
   "outputs": [],
   "source": [
    "csv_files = [file for file in os.listdir(directory_path) if file.endswith('.csv')]"
   ]
  },
  {
   "cell_type": "code",
   "execution_count": 4,
   "metadata": {},
   "outputs": [],
   "source": [
    "dataframes = []\n",
    "for file in csv_files:\n",
    "    file_path = os.path.join(directory_path, file)\n",
    "    df = pd.read_csv(file_path)\n",
    "    dataframes.append(df)"
   ]
  },
  {
   "cell_type": "code",
   "execution_count": 5,
   "metadata": {},
   "outputs": [],
   "source": [
    "combined_df = pd.concat(dataframes, ignore_index=True)"
   ]
  },
  {
   "cell_type": "code",
   "execution_count": 6,
   "metadata": {},
   "outputs": [],
   "source": [
    "df2 = pd.read_csv('stock_metadata.csv')"
   ]
  },
  {
   "cell_type": "code",
   "execution_count": 7,
   "metadata": {},
   "outputs": [],
   "source": [
    "merged_df = pd.merge(combined_df, df2, on='Symbol', how='inner')"
   ]
  },
  {
   "cell_type": "code",
   "execution_count": null,
   "metadata": {},
   "outputs": [],
   "source": [
    "merged_df.head()"
   ]
  },
  {
   "cell_type": "code",
   "execution_count": 10,
   "metadata": {},
   "outputs": [],
   "source": [
    "merged_df.drop(['Trades','Series_y', 'ISIN Code'], axis=1, inplace=True)"
   ]
  },
  {
   "cell_type": "code",
   "execution_count": null,
   "metadata": {},
   "outputs": [],
   "source": [
    "merged_df.head()"
   ]
  },
  {
   "cell_type": "code",
   "execution_count": null,
   "metadata": {},
   "outputs": [],
   "source": [
    "merged_df.drop(['Series_y'],axis=1,inplace=True)"
   ]
  },
  {
   "cell_type": "code",
   "execution_count": 13,
   "metadata": {},
   "outputs": [
    {
     "data": {
      "text/html": [
       "<div>\n",
       "<style scoped>\n",
       "    .dataframe tbody tr th:only-of-type {\n",
       "        vertical-align: middle;\n",
       "    }\n",
       "\n",
       "    .dataframe tbody tr th {\n",
       "        vertical-align: top;\n",
       "    }\n",
       "\n",
       "    .dataframe thead th {\n",
       "        text-align: right;\n",
       "    }\n",
       "</style>\n",
       "<table border=\"1\" class=\"dataframe\">\n",
       "  <thead>\n",
       "    <tr style=\"text-align: right;\">\n",
       "      <th></th>\n",
       "      <th>Date</th>\n",
       "      <th>Symbol</th>\n",
       "      <th>Series_x</th>\n",
       "      <th>Prev Close</th>\n",
       "      <th>Open</th>\n",
       "      <th>High</th>\n",
       "      <th>Low</th>\n",
       "      <th>Last</th>\n",
       "      <th>Close</th>\n",
       "      <th>VWAP</th>\n",
       "      <th>Volume</th>\n",
       "      <th>Turnover</th>\n",
       "      <th>Deliverable Volume</th>\n",
       "      <th>%Deliverble</th>\n",
       "      <th>Company Name</th>\n",
       "      <th>Industry</th>\n",
       "    </tr>\n",
       "  </thead>\n",
       "  <tbody>\n",
       "    <tr>\n",
       "      <th>0</th>\n",
       "      <td>2008-05-26</td>\n",
       "      <td>BAJAJ-AUTO</td>\n",
       "      <td>EQ</td>\n",
       "      <td>2101.05</td>\n",
       "      <td>898.00</td>\n",
       "      <td>898.0</td>\n",
       "      <td>551.35</td>\n",
       "      <td>600.25</td>\n",
       "      <td>604.75</td>\n",
       "      <td>624.61</td>\n",
       "      <td>3972485</td>\n",
       "      <td>2.481245e+14</td>\n",
       "      <td>1202933.0</td>\n",
       "      <td>0.3028</td>\n",
       "      <td>Bajaj Auto Ltd.</td>\n",
       "      <td>AUTOMOBILE</td>\n",
       "    </tr>\n",
       "    <tr>\n",
       "      <th>1</th>\n",
       "      <td>2008-05-27</td>\n",
       "      <td>BAJAJ-AUTO</td>\n",
       "      <td>EQ</td>\n",
       "      <td>604.75</td>\n",
       "      <td>624.70</td>\n",
       "      <td>639.0</td>\n",
       "      <td>580.30</td>\n",
       "      <td>595.50</td>\n",
       "      <td>593.15</td>\n",
       "      <td>606.43</td>\n",
       "      <td>1751063</td>\n",
       "      <td>1.061901e+14</td>\n",
       "      <td>369389.0</td>\n",
       "      <td>0.2110</td>\n",
       "      <td>Bajaj Auto Ltd.</td>\n",
       "      <td>AUTOMOBILE</td>\n",
       "    </tr>\n",
       "    <tr>\n",
       "      <th>2</th>\n",
       "      <td>2008-05-28</td>\n",
       "      <td>BAJAJ-AUTO</td>\n",
       "      <td>EQ</td>\n",
       "      <td>593.15</td>\n",
       "      <td>561.65</td>\n",
       "      <td>621.9</td>\n",
       "      <td>561.65</td>\n",
       "      <td>605.10</td>\n",
       "      <td>608.15</td>\n",
       "      <td>608.75</td>\n",
       "      <td>1652355</td>\n",
       "      <td>1.005877e+14</td>\n",
       "      <td>898602.0</td>\n",
       "      <td>0.5438</td>\n",
       "      <td>Bajaj Auto Ltd.</td>\n",
       "      <td>AUTOMOBILE</td>\n",
       "    </tr>\n",
       "    <tr>\n",
       "      <th>3</th>\n",
       "      <td>2008-05-29</td>\n",
       "      <td>BAJAJ-AUTO</td>\n",
       "      <td>EQ</td>\n",
       "      <td>608.15</td>\n",
       "      <td>619.40</td>\n",
       "      <td>619.4</td>\n",
       "      <td>576.00</td>\n",
       "      <td>600.00</td>\n",
       "      <td>599.45</td>\n",
       "      <td>600.98</td>\n",
       "      <td>669269</td>\n",
       "      <td>4.022165e+13</td>\n",
       "      <td>449951.0</td>\n",
       "      <td>0.6723</td>\n",
       "      <td>Bajaj Auto Ltd.</td>\n",
       "      <td>AUTOMOBILE</td>\n",
       "    </tr>\n",
       "    <tr>\n",
       "      <th>4</th>\n",
       "      <td>2008-05-30</td>\n",
       "      <td>BAJAJ-AUTO</td>\n",
       "      <td>EQ</td>\n",
       "      <td>599.45</td>\n",
       "      <td>605.40</td>\n",
       "      <td>607.0</td>\n",
       "      <td>538.00</td>\n",
       "      <td>576.25</td>\n",
       "      <td>571.70</td>\n",
       "      <td>565.55</td>\n",
       "      <td>1262117</td>\n",
       "      <td>7.137937e+13</td>\n",
       "      <td>936432.0</td>\n",
       "      <td>0.7420</td>\n",
       "      <td>Bajaj Auto Ltd.</td>\n",
       "      <td>AUTOMOBILE</td>\n",
       "    </tr>\n",
       "  </tbody>\n",
       "</table>\n",
       "</div>"
      ],
      "text/plain": [
       "         Date      Symbol Series_x  Prev Close    Open   High     Low    Last  \\\n",
       "0  2008-05-26  BAJAJ-AUTO       EQ     2101.05  898.00  898.0  551.35  600.25   \n",
       "1  2008-05-27  BAJAJ-AUTO       EQ      604.75  624.70  639.0  580.30  595.50   \n",
       "2  2008-05-28  BAJAJ-AUTO       EQ      593.15  561.65  621.9  561.65  605.10   \n",
       "3  2008-05-29  BAJAJ-AUTO       EQ      608.15  619.40  619.4  576.00  600.00   \n",
       "4  2008-05-30  BAJAJ-AUTO       EQ      599.45  605.40  607.0  538.00  576.25   \n",
       "\n",
       "    Close    VWAP   Volume      Turnover  Deliverable Volume  %Deliverble  \\\n",
       "0  604.75  624.61  3972485  2.481245e+14           1202933.0       0.3028   \n",
       "1  593.15  606.43  1751063  1.061901e+14            369389.0       0.2110   \n",
       "2  608.15  608.75  1652355  1.005877e+14            898602.0       0.5438   \n",
       "3  599.45  600.98   669269  4.022165e+13            449951.0       0.6723   \n",
       "4  571.70  565.55  1262117  7.137937e+13            936432.0       0.7420   \n",
       "\n",
       "      Company Name    Industry  \n",
       "0  Bajaj Auto Ltd.  AUTOMOBILE  \n",
       "1  Bajaj Auto Ltd.  AUTOMOBILE  \n",
       "2  Bajaj Auto Ltd.  AUTOMOBILE  \n",
       "3  Bajaj Auto Ltd.  AUTOMOBILE  \n",
       "4  Bajaj Auto Ltd.  AUTOMOBILE  "
      ]
     },
     "execution_count": 13,
     "metadata": {},
     "output_type": "execute_result"
    }
   ],
   "source": [
    "merged_df.head()"
   ]
  },
  {
   "cell_type": "code",
   "execution_count": null,
   "metadata": {},
   "outputs": [],
   "source": [
    "merged_df.to_csv('final_merged.csv')"
   ]
  }
 ],
 "metadata": {
  "kernelspec": {
   "display_name": "Python 3",
   "language": "python",
   "name": "python3"
  },
  "language_info": {
   "codemirror_mode": {
    "name": "ipython",
    "version": 3
   },
   "file_extension": ".py",
   "mimetype": "text/x-python",
   "name": "python",
   "nbconvert_exporter": "python",
   "pygments_lexer": "ipython3",
   "version": "3.10.6"
  },
  "orig_nbformat": 4,
  "vscode": {
   "interpreter": {
    "hash": "916dbcbb3f70747c44a77c7bcd40155683ae19c65e1c03b4aa3499c5328201f1"
   }
  }
 },
 "nbformat": 4,
 "nbformat_minor": 2
}
